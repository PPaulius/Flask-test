{
 "cells": [
  {
   "cell_type": "code",
   "execution_count": null,
   "id": "8e030945",
   "metadata": {},
   "outputs": [],
   "source": [
    "2 užduotis:\n",
    "Sukurti klasę Sukaktis, kuri turėtų savybę data (galima atskirai įvesti metus, mėnesius ir kt.) ir metodus, kurie:\n",
    "\n",
    "Gražina, kiek nuo įvestos sukakties praėjo metų, savaičių, dienų, valandų, minučių, sekundžių\n",
    "Gražina, ar nurodytos sukakties metai buvo keliamieji\n",
    "Atima iš nurodytos datos nurodytą kiekį dienų ir gražina naują datą\n",
    "Prideda prie nurodytos datos nurodytą kiekį dienų ir gražina naują datą"
   ]
  },
  {
   "cell_type": "code",
   "execution_count": 1,
   "id": "61aa0d4c",
   "metadata": {},
   "outputs": [
    {
     "name": "stdout",
     "output_type": "stream",
     "text": [
      "Keliamieji metai\n",
      "Praėjo metų:  66\n",
      "Praėjo mėnesių:  793.7095890410959\n",
      "Praėjo savaičių:  3448.8571428571427\n",
      "Praėjo dienų:  24142\n",
      "Praėjo valandų:  579430.0177242475\n",
      "Praėjo minučių:  34765801.06345485\n",
      "Praėjo sekundžių:  2085948063.807291\n",
      "1930-11-15 13:30:01\n",
      "1962-09-17 13:30:01\n",
      "Data: 1956-6-16, 13:30:1\n"
     ]
    }
   ],
   "source": [
    "import datetime\n",
    "import calendar\n",
    "\n",
    "class Sukaktis:\n",
    "    def __init__ (self, metai=1956, menuo=6, diena=16, valandos=13, minutes=30, sekundes=1):\n",
    "        self.metai = metai\n",
    "        self.menuo = menuo\n",
    "        self.diena = diena\n",
    "        self.valandos = valandos\n",
    "        self.minutes = minutes\n",
    "        self.sekundes = sekundes\n",
    "        self.data = datetime.datetime(metai, menuo, diena, valandos, minutes, sekundes)\n",
    "    \n",
    "    def smulkiai(self):\n",
    "        now = datetime.datetime.now()\n",
    "        skirtumas = now - self.data\n",
    "        print(f\"Praėjo metų: \", skirtumas.days // 365)\n",
    "        print(\"Praėjo mėnesių: \", skirtumas.days / 365 * 12)\n",
    "        print(\"Praėjo savaičių: \", skirtumas.days / 7)\n",
    "        print(\"Praėjo dienų: \", skirtumas.days)\n",
    "        print(\"Praėjo valandų: \", skirtumas.total_seconds() / 3600)\n",
    "        print(\"Praėjo minučių: \", skirtumas.total_seconds() / 60)\n",
    "        print(\"Praėjo sekundžių: \", skirtumas.total_seconds())\n",
    "\n",
    "    def arKeliamieji(self):\n",
    "        if calendar.isleap(self.metai):\n",
    "            print(\"Keliamieji metai\")\n",
    "\n",
    "    def atimtiDienas(self, dienos):\n",
    "        return self.data - datetime.timedelta(days=dienos)\n",
    "\n",
    "    def pridetiDienas(self, dienos):\n",
    "        return self.data + datetime.timedelta(days=dienos)\n",
    "\n",
    "    def __str__(self):\n",
    "        return (f\"Data: {self.metai}-{self.menuo}-{self.diena}, {self.valandos}:{self.minutes}:{self.sekundes}\")\n",
    "\n",
    "\n",
    "data1 = Sukaktis(1956, 6, 16, 13, 30, 1)\n",
    "data1.arKeliamieji()\n",
    "data1.smulkiai()\n",
    "print(data1.atimtiDienas(9345))\n",
    "print(data1.pridetiDienas(2284))\n",
    "print(data1)"
   ]
  },
  {
   "cell_type": "code",
   "execution_count": null,
   "id": "d8d13361",
   "metadata": {},
   "outputs": [],
   "source": []
  }
 ],
 "metadata": {
  "kernelspec": {
   "display_name": "Python 3 (ipykernel)",
   "language": "python",
   "name": "python3"
  },
  "language_info": {
   "codemirror_mode": {
    "name": "ipython",
    "version": 3
   },
   "file_extension": ".py",
   "mimetype": "text/x-python",
   "name": "python",
   "nbconvert_exporter": "python",
   "pygments_lexer": "ipython3",
   "version": "3.10.5"
  }
 },
 "nbformat": 4,
 "nbformat_minor": 5
}
