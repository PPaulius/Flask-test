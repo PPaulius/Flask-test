{
 "cells": [
  {
   "cell_type": "code",
   "execution_count": null,
   "id": "357f0121",
   "metadata": {},
   "outputs": [],
   "source": [
    "1 užduotis:\n",
    "Parašyti klasę Sakinys, kuri turi savybę tekstas ir metodus, kurie:\n",
    "\n",
    "Gražina tekstą atbulai\n",
    "Gražina tekstą mažosiomis raidėmis\n",
    "Gražina tekstą didžiosiomis raidėmis\n",
    "Gražina žodį pagal nurodytą eilės numerį\n",
    "Gražina, kiek tekste yra nurodytų simbolių arba žodžių\n",
    "Gražina tekstą su pakeistu nurodytu žodžiu arba simboliu\n",
    "Atspausdina, kiek sakinyje yra žodžių, skaičių, didžiųjų ir mažųjų raidžių\n",
    "Susikurti kelis klasės objektus ir išbandyti visus metodus"
   ]
  },
  {
   "cell_type": "code",
   "execution_count": 1,
   "id": "7901348c",
   "metadata": {},
   "outputs": [
    {
     "name": "stdout",
     "output_type": "stream",
     "text": [
      "!įneidatšeš ,satyr sabaL\n",
      "labas rytas, šeštadienį!\n",
      "LABAS RYTAS, ŠEŠTADIENĮ!\n",
      "rytas,\n",
      "šnypšenčios: 2, mazosios: 19, didziosios: 1, skaiciai: 0\n",
      "Laba diena, užduoties pabaiga!\n"
     ]
    }
   ],
   "source": [
    "class Sakinys:\n",
    "    def __init__(self, tekstas=\"Zen of Python\"):\n",
    "        self.tekstas = tekstas\n",
    "    \n",
    "    # - gražina tekstą atbulai\n",
    "    def atbulas_tekstas(self):\n",
    "        return self.tekstas[::-1]\n",
    "    \n",
    "\n",
    "    # = gražina tekstą mažosiomis raidėmis\n",
    "    def mazosiomis(self):\n",
    "        return self.tekstas.lower()\n",
    "    \n",
    "    # - gražina tekstą didžiosiomis raidėmis\n",
    "    def didziosiomis(self):\n",
    "        return self.tekstas.upper()\n",
    "    \n",
    "    # - gražina žodį pagal nurodytą eilės numerį\n",
    "    def zodis(self, skaicius):\n",
    "        nurodytas = self.tekstas.split()\n",
    "        return nurodytas[skaicius]\n",
    "    \n",
    "    # - gražina kiek tekste yra nurodytų simbolių, žodžių\n",
    "    # - Atspausdina, kiek sakinyje yra žodžių, skaičių, didžiųjų ir mažųjų raidžių\n",
    "    def kiekiai(self):\n",
    "        zodziai = len(self.tekstas.split())\n",
    "        šnypšenčios = sum(char == 'š' for char in self.tekstas)\n",
    "        mazosios = sum(k.islower() for k in self.tekstas)\n",
    "        didziosios = sum(k.isupper() for k in self.tekstas)\n",
    "        skaiciai = sum(k.isnumeric() for k in self.tekstas)\n",
    "        print(f\"šnypšenčios: {šnypšenčios}, mazosios: {mazosios}, didziosios: {didziosios}, skaiciai: {skaiciai}\")\n",
    "\n",
    "    # - gražina tekstą su pakeistu nurodytu žodžiu arba simboliu\n",
    "    def __repr__(self):\n",
    "            return 'Laba diena, užduoties pabaiga!'\n",
    "    \n",
    "mano_sakinys = Sakinys(\"Labas rytas, šeštadienį!\")\n",
    "print(mano_sakinys.atbulas_tekstas())\n",
    "print(mano_sakinys.mazosiomis())\n",
    "print(mano_sakinys.didziosiomis())\n",
    "print(mano_sakinys.zodis(1))\n",
    "mano_sakinys.kiekiai()\n",
    "print(mano_sakinys)"
   ]
  },
  {
   "cell_type": "code",
   "execution_count": null,
   "id": "9f4996bd",
   "metadata": {},
   "outputs": [],
   "source": []
  }
 ],
 "metadata": {
  "kernelspec": {
   "display_name": "Python 3 (ipykernel)",
   "language": "python",
   "name": "python3"
  },
  "language_info": {
   "codemirror_mode": {
    "name": "ipython",
    "version": 3
   },
   "file_extension": ".py",
   "mimetype": "text/x-python",
   "name": "python",
   "nbconvert_exporter": "python",
   "pygments_lexer": "ipython3",
   "version": "3.10.5"
  }
 },
 "nbformat": 4,
 "nbformat_minor": 5
}
